{
 "cells": [
  {
   "cell_type": "markdown",
   "metadata": {},
   "source": [
    "## Geophysical Data Analysis: Discrete Inverse Theory\n",
    "### William Menke\n",
    "Third Edition  \n",
    "Transcribed and translated (from Matlab to Python) by Joshua Poirier\n",
    "\n",
    "## Chaper 00\n",
    "# Introduction\n",
    "\n",
    "### I.3 A very quick Python tutorial\n",
    "\n",
    "Let's type today's date."
   ]
  },
  {
   "cell_type": "code",
   "execution_count": 1,
   "metadata": {
    "collapsed": false
   },
   "outputs": [
    {
     "name": "stdout",
     "output_type": "stream",
     "text": [
      "2016-07-20\n"
     ]
    }
   ],
   "source": [
    "import datetime\n",
    "\n",
    "# print today's date\n",
    "print(datetime.date.today())"
   ]
  },
  {
   "cell_type": "markdown",
   "metadata": {},
   "source": [
    "Now let's look at the commands for some simple arithmetic and algebra which closely parallel standard mathematical notation."
   ]
  },
  {
   "cell_type": "code",
   "execution_count": 1,
   "metadata": {
    "collapsed": false
   },
   "outputs": [
    {
     "name": "stdout",
     "output_type": "stream",
     "text": [
      "9.6\n"
     ]
    }
   ],
   "source": [
    "# input variables\n",
    "a = 4.5\n",
    "b = 5.1\n",
    "\n",
    "# simple equation\n",
    "c = a + b\n",
    "\n",
    "# output result\n",
    "print(c)"
   ]
  },
  {
   "cell_type": "markdown",
   "metadata": {},
   "source": [
    "Similarly, now let's look at somewhat more complicated formula with a square root.  This syntax differs from standard mathematical notation."
   ]
  },
  {
   "cell_type": "code",
   "execution_count": 2,
   "metadata": {
    "collapsed": false
   },
   "outputs": [
    {
     "name": "stdout",
     "output_type": "stream",
     "text": [
      "10.0\n"
     ]
    }
   ],
   "source": [
    "import math\n",
    "\n",
    "# input variables\n",
    "a = 6\n",
    "b = 8\n",
    "\n",
    "# somewhat more complicated formula\n",
    "c = math.sqrt(a**2 + b**2)\n",
    "\n",
    "# output result\n",
    "print(c)"
   ]
  },
  {
   "cell_type": "markdown",
   "metadata": {},
   "source": [
    "Now a final somewhat more complicated formula using the **sin** function."
   ]
  },
  {
   "cell_type": "code",
   "execution_count": 3,
   "metadata": {
    "collapsed": false
   },
   "outputs": [
    {
     "name": "stdout",
     "output_type": "stream",
     "text": [
      "-1.0\n"
     ]
    }
   ],
   "source": [
    "# input variables\n",
    "n = 3\n",
    "x = 4\n",
    "x0 = 1\n",
    "L = 6\n",
    "\n",
    "c = math.sin(n * math.pi * (x-x0) / L)\n",
    "\n",
    "print(c)"
   ]
  },
  {
   "cell_type": "markdown",
   "metadata": {},
   "source": [
    "### I.4 Review of vectors and matrices and their representation"
   ]
  },
  {
   "cell_type": "code",
   "execution_count": 4,
   "metadata": {
    "collapsed": false
   },
   "outputs": [
    {
     "name": "stdout",
     "output_type": "stream",
     "text": [
      "Row-based vector:\n",
      "[2 4 6]\n",
      "\n",
      "Column-based vector:\n",
      "[[1]\n",
      " [3]\n",
      " [5]]\n"
     ]
    }
   ],
   "source": [
    "import numpy as np\n",
    "\n",
    "# define row and column-based vectors\n",
    "r = np.array([2, 4, 6])\n",
    "c = np.array([1, 3, 5])\n",
    "c.shape = (3,1)\n",
    "\n",
    "# print the vectors\n",
    "print(\"Row-based vector:\")\n",
    "print(r)\n",
    "print(\"\")\n",
    "print(\"Column-based vector:\")\n",
    "print(c)"
   ]
  },
  {
   "cell_type": "markdown",
   "metadata": {},
   "source": [
    "Note how the column-based vector has vector elements.  This is necessary to enforce the column-wise dimension.  Next, let's print the second element from each vector.  Note how the column-based vector syntax differs from the row-based vector syntax, and that Python uses zero-indexing for vectors (first element is index 0, second element is index 1, etc.)."
   ]
  },
  {
   "cell_type": "code",
   "execution_count": 5,
   "metadata": {
    "collapsed": false
   },
   "outputs": [
    {
     "name": "stdout",
     "output_type": "stream",
     "text": [
      "Second element of row-based vector:\n",
      "4\n",
      "\n",
      "Second element of column-based vector:\n",
      "3\n"
     ]
    }
   ],
   "source": [
    "# print the second element of each vector\n",
    "print(\"Second element of row-based vector:\")\n",
    "print(r[1])\n",
    "print(\"\")\n",
    "print(\"Second element of column-based vector:\")\n",
    "print(c[1][0])"
   ]
  },
  {
   "cell_type": "markdown",
   "metadata": {},
   "source": [
    "In the simplest interpretation, a *matrix* is just a rectangular table of numbers.  Let's build a square matrix, printing both it and its transpose."
   ]
  },
  {
   "cell_type": "code",
   "execution_count": 6,
   "metadata": {
    "collapsed": false
   },
   "outputs": [
    {
     "name": "stdout",
     "output_type": "stream",
     "text": [
      "Matrix M:\n",
      "[[1 2 3]\n",
      " [4 5 6]\n",
      " [7 8 9]]\n",
      "\n",
      "Matrix M transposed:\n",
      "[[1 4 7]\n",
      " [2 5 8]\n",
      " [3 6 9]]\n"
     ]
    }
   ],
   "source": [
    "# build matrix\n",
    "M = np.array([(1,2,3),(4,5,6),(7,8,9)])\n",
    "\n",
    "# output matrix and its transpose\n",
    "print(\"Matrix M:\")\n",
    "print(M)\n",
    "print(\"\")\n",
    "print(\"Matrix M transposed:\")\n",
    "print(np.transpose(M))"
   ]
  },
  {
   "cell_type": "markdown",
   "metadata": {},
   "source": [
    "Now let's try some matrix arithmetic.  In order to be added, the two matrices (or vectors) must have the same number of rows and columns.  Their sum is then just the matrix that results from summing their corresponding elements."
   ]
  },
  {
   "cell_type": "code",
   "execution_count": 7,
   "metadata": {
    "collapsed": false
   },
   "outputs": [
    {
     "name": "stdout",
     "output_type": "stream",
     "text": [
      "M + N =\n",
      "[[2 0 1]\n",
      " [0 3 0]\n",
      " [3 0 4]]\n"
     ]
    }
   ],
   "source": [
    "# build matrices\n",
    "M = np.array([(1,0,2), (0,1,0), (2,0,1)])\n",
    "N = np.array([(1,0,-1), (0,2,0), (1,0,3)])\n",
    "\n",
    "# sum the matrices M and N\n",
    "S = M + N\n",
    "\n",
    "print(\"M + N =\")\n",
    "print(S)"
   ]
  },
  {
   "cell_type": "markdown",
   "metadata": {},
   "source": [
    "Subtraction is performed in an analogous manner.  Addition (and subtraction) are commutative and associative.  Multiplication of two matrices is a more complicated operation and requires that the number of columns of the left-hand matrix equal the number of rows of the right-hand matrix.  Thus, if the matrix **M** is *NxK* and the matrix **N** is *KxM*, the product **P**=**NM** is an *NxM* matrix.  Matrix multiplication is associative; however, it is not commutative."
   ]
  },
  {
   "cell_type": "code",
   "execution_count": 8,
   "metadata": {
    "collapsed": false
   },
   "outputs": [
    {
     "name": "stdout",
     "output_type": "stream",
     "text": [
      "M * N =\n",
      "[[ 9  9]\n",
      " [15 15]]\n"
     ]
    }
   ],
   "source": [
    "# build matrices\n",
    "M = np.array([(1,1,2,2),(2,2,3,3)])\n",
    "N = np.array([(1,2),(2,1),(1,2),(2,1)])\n",
    "\n",
    "# multiply the matrices M and N\n",
    "Q = M.dot(N)\n",
    "\n",
    "print(\"M * N =\")\n",
    "print(Q)"
   ]
  },
  {
   "cell_type": "markdown",
   "metadata": {},
   "source": [
    "Any matrix is unchanged when multiplied by the *identify matrix*, conveniently denoted **I**.  This matrix has ones along its main diagonal, and zeroes elsewhere, as in:"
   ]
  },
  {
   "cell_type": "code",
   "execution_count": 9,
   "metadata": {
    "collapsed": false
   },
   "outputs": [
    {
     "name": "stdout",
     "output_type": "stream",
     "text": [
      "3x3 Identity matrix:\n",
      "[[ 1.  0.  0.]\n",
      " [ 0.  1.  0.]\n",
      " [ 0.  0.  1.]]\n"
     ]
    }
   ],
   "source": [
    "# build 3x3 identity matrix\n",
    "I = np.eye(3)\n",
    "\n",
    "print(\"3x3 Identity matrix:\")\n",
    "print(I)"
   ]
  },
  {
   "cell_type": "markdown",
   "metadata": {
    "collapsed": true
   },
   "source": [
    "Python performs all multiplicative operations with ease.  For example, suppose we have vectors **a**, **b** (we'll use row-based vectors for coding convenience, reshaping/transposing as necessary), and matrices **M**, and **N** defined as:\n",
    "\n",
    "\\begin{equation*}\n",
    "\\mathbf{a} = \\begin{pmatrix} 1 \\\\ 3 \\\\ 5 \\end{pmatrix} \n",
    "\\qquad \\qquad\n",
    "\\mathbf{b} = \\begin{pmatrix} 2 \\\\ 4 \\\\ 6 \\end{pmatrix}\n",
    "\\end{equation*}\n",
    "\n",
    "\n",
    "\\begin{equation*}\n",
    "\\mathbf{M} = \\begin{pmatrix}\n",
    "1 & 0 & 2 \\\\\n",
    "0 &  1 & 0 \\\\\n",
    "2 &  0 & 1\n",
    "\\end{pmatrix}\n",
    "\\qquad \\qquad\n",
    "\\mathbf{N} = \\begin{pmatrix}\n",
    "1 & 0 & -1 \\\\\n",
    "0 & 2 & 0 \\\\\n",
    "-1 & 0 & 3\n",
    "\\end{pmatrix}\n",
    "\\end{equation*}"
   ]
  },
  {
   "cell_type": "code",
   "execution_count": 10,
   "metadata": {
    "collapsed": false
   },
   "outputs": [],
   "source": [
    "# build vectors and matrices\n",
    "a = np.array([1,3,5])\n",
    "b = np.array([2,4,6])\n",
    "M = np.array([(1,0,2),(0,1,0),(2,0,1)])\n",
    "N = np.array([(1,0,-1),(0,2,0),(-1,0,3)])"
   ]
  },
  {
   "cell_type": "markdown",
   "metadata": {},
   "source": [
    "Let's use Python (and the Numpy package) to calculate the following.\n",
    "\n",
    "\\begin{equation*}\n",
    "s = \\mathbf{a} \\mathbf{b}^T = \n",
    "\\begin{pmatrix} 1 & 3 & 5 \\end{pmatrix}  \\begin{pmatrix} 2 \\\\ 4 \\\\ 6 \\end{pmatrix} =\n",
    "2 \\times 3 + 3 \\times 4 + 5 \\times 6 = 44\n",
    "\\end{equation*}"
   ]
  },
  {
   "cell_type": "code",
   "execution_count": 11,
   "metadata": {
    "collapsed": false
   },
   "outputs": [
    {
     "name": "stdout",
     "output_type": "stream",
     "text": [
      "44\n"
     ]
    }
   ],
   "source": [
    "s = np.vdot(a,b)\n",
    "print(s)"
   ]
  },
  {
   "cell_type": "markdown",
   "metadata": {},
   "source": [
    "Now let's compute **a<sup>T</sup>b**.  Note that we need to reshape **a** to be a column-based vector.\n",
    "\n",
    "\\begin{equation*}\n",
    "\\mathbf{T} = \\mathbf{a}^T \\mathbf{b} = \n",
    "\\begin{pmatrix} 1 \\\\ 3 \\\\ 5 \\end{pmatrix}  \\begin{pmatrix} 2 & 4 & 6 \\end{pmatrix} =\n",
    "\\begin{pmatrix} \n",
    "2 \\times 1 & 4 \\times 1 & 6 \\times 1 \\\\\n",
    "2 \\times 3 & 4 \\times 3 & 6 \\times 3 \\\\\n",
    "2 \\times 5 & 4 \\times 5 & 6 \\times 5 \\end{pmatrix} =\n",
    "\\begin{pmatrix}\n",
    "2 & 4 & 6 \\\\\n",
    "6 & 12 & 18 \\\\\n",
    "10 & 20 & 30 \\end{pmatrix}\n",
    "\\end{equation*}"
   ]
  },
  {
   "cell_type": "code",
   "execution_count": 12,
   "metadata": {
    "collapsed": false
   },
   "outputs": [
    {
     "name": "stdout",
     "output_type": "stream",
     "text": [
      "[[ 2  4  6]\n",
      " [ 6 12 18]\n",
      " [10 20 30]]\n"
     ]
    }
   ],
   "source": [
    "T = a.reshape(3,1) * b\n",
    "print(T)"
   ]
  },
  {
   "cell_type": "markdown",
   "metadata": {},
   "source": [
    "Now let's bring a matrix into the mix!\n",
    "\n",
    "\\begin{equation*}\n",
    "\\mathbf{c} = \\mathbf{M} \\mathbf{a}^T = \n",
    "\\begin{pmatrix} \n",
    "1 & 0 & 2 \\\\\n",
    "0 & 1 & 0 \\\\\n",
    "2 & 0 & 1\n",
    "\\end{pmatrix} \n",
    "\\begin{pmatrix} 1 \\\\ 3 \\\\ 5 \\end{pmatrix} =\n",
    "\\begin{pmatrix} \n",
    "1 \\times 1 + 0 \\times 3 + 2 \\times 5 \\\\\n",
    "0 \\times 1 + 1 \\times 3 + 0 \\times 5 \\\\\n",
    "2 \\times 1 + 0 \\times 3 + 1 \\times 5\n",
    "\\end{pmatrix} =\n",
    "\\begin{pmatrix} 11 \\\\ 3 \\\\ 7 \\end{pmatrix}\n",
    "\\end{equation*}"
   ]
  },
  {
   "cell_type": "code",
   "execution_count": 13,
   "metadata": {
    "collapsed": false
   },
   "outputs": [
    {
     "name": "stdout",
     "output_type": "stream",
     "text": [
      "[[11]\n",
      " [ 3]\n",
      " [ 7]]\n"
     ]
    }
   ],
   "source": [
    "c = M.dot(a.reshape(3,1))\n",
    "print(c)"
   ]
  },
  {
   "cell_type": "markdown",
   "metadata": {},
   "source": [
    "And how about multiplying two matrices?\n",
    "\n",
    "\\begin{equation*}\n",
    "\\mathbf{P} = \\mathbf{M} \\mathbf{N} = \n",
    "\\begin{pmatrix} 1 & 0 & 2 \\\\ 0 & 1 & 0 \\\\ 2 & 0 & 1 \\end{pmatrix}\n",
    "\\begin{pmatrix} 1 & 0 & -1 \\\\ 0 & 2 & 0 \\\\ -1 & 0 & 3 \\end{pmatrix} =\n",
    "\\begin{pmatrix} -1 & 0 & 5 \\\\ 0 & 2 & 0 \\\\ 1 & 0 & 1 \\end{pmatrix}\n",
    "\\end{equation*}"
   ]
  },
  {
   "cell_type": "code",
   "execution_count": 14,
   "metadata": {
    "collapsed": false
   },
   "outputs": [
    {
     "name": "stdout",
     "output_type": "stream",
     "text": [
      "[[-1  0  5]\n",
      " [ 0  2  0]\n",
      " [ 1  0  1]]\n"
     ]
    }
   ],
   "source": [
    "P = M.dot(N)\n",
    "print(P)"
   ]
  },
  {
   "cell_type": "markdown",
   "metadata": {},
   "source": [
    "In Python/Numpy, matrix multiplication (between matrix data types) is signified using the multiplication sign, *\\** (the asterisk).  Sometimes we may want to violate the rules and multiply the items element-wise.  To do this we perform the following:"
   ]
  },
  {
   "cell_type": "code",
   "execution_count": 15,
   "metadata": {
    "collapsed": false,
    "scrolled": true
   },
   "outputs": [
    {
     "name": "stdout",
     "output_type": "stream",
     "text": [
      "[[ 1  0 -2]\n",
      " [ 0  2  0]\n",
      " [-2  0  3]]\n"
     ]
    }
   ],
   "source": [
    "D = np.multiply(M, N)\n",
    "print(D)"
   ]
  },
  {
   "cell_type": "markdown",
   "metadata": {},
   "source": [
    "Quick look at subsetting matrices given:\n",
    "\n",
    "\\begin{equation*}\n",
    "\\mathbf{a} = \\begin{pmatrix} 1 \\\\ 2 \\\\ 3 \\end{pmatrix}\n",
    "\\qquad\n",
    "\\mathbf{M} = \\begin{pmatrix} 1 & 2 & 3 \\\\ 4 & 5 & 6 \\\\ 7 & 8 & 9 \\end{pmatrix}\n",
    "\\end{equation*}\n",
    "\n",
    "Let's calculate:\n",
    "\\begin{equation*}\n",
    "s = a_2 = 2\n",
    "\\qquad\n",
    "t = M_{2,3} = 6\n",
    "\\qquad\n",
    "\\mathbf{b} = \\begin{pmatrix} M_{1,2} & M_{2,2} & M_{3,2} \\end{pmatrix} = \\begin{pmatrix} 2 & 5 & 8 \\end{pmatrix}\n",
    "\\end{equation*}\n",
    "\n",
    "\\begin{equation*}\n",
    "\\mathbf{c} = \\begin{pmatrix} M_{2,1} & M_{2,2} & M_{2,3} \\end{pmatrix} = \\begin{pmatrix} 4 & 5 & 6 \\end{pmatrix}\n",
    "\\qquad\n",
    "\\mathbf{T} = \\begin{pmatrix} M_{2,2} & M_{2,3} \\\\ M_{3,2} & M_{3,3} \\end{pmatrix} = \\begin{pmatrix} 5 & 6 \\\\ 8 & 9 \\end{pmatrix}\n",
    "\\end{equation*}"
   ]
  },
  {
   "cell_type": "code",
   "execution_count": 16,
   "metadata": {
    "collapsed": false
   },
   "outputs": [
    {
     "name": "stdout",
     "output_type": "stream",
     "text": [
      "s = 2\n",
      "t = 6\n",
      "b = [2 5 8]\n",
      "c = [7 8 9]\n",
      "T = [[5 6]\n",
      " [8 9]]\n"
     ]
    }
   ],
   "source": [
    "a = np.array([1, 2, 3]).reshape(3,1)\n",
    "M = np.array([(1,2,3), (4,5,6), (7,8,9)])\n",
    "\n",
    "# we need to use a second index because we're using a column-based array now\n",
    "s = a[1,0]\n",
    "print(\"s =\", s)\n",
    "\n",
    "t = M[1,2]\n",
    "print(\"t =\", t)\n",
    "\n",
    "b = M[:,1]\n",
    "print(\"b =\", b)\n",
    "\n",
    "c = M[2,:]\n",
    "print(\"c =\", c)\n",
    "\n",
    "T = M[1:,1:]\n",
    "print(\"T =\", T)"
   ]
  },
  {
   "cell_type": "markdown",
   "metadata": {},
   "source": [
    "Matrix division is defined in analogy to reciprocals.  If *s* is a scalar number, then multiplication by the reciprocal $s^{-1}$ is equivalent to division by *s*.  Here, the reciprocal obeys $s^{-1}s=ss^{-1}=1$.  The matrix analog to the reciprocal is called the *matrix inverse* and obeys:\n",
    "    \n",
    "\\begin{equation*}\n",
    "\\mathbf{A}^{-1} \\mathbf{A} = \\mathbf{A} \\mathbf{A}^{-1} = \\mathbf{I}\n",
    "\\end{equation*}\n",
    "\n",
    "It is defined only for square matrices.  The calculation of the inverse of a matrix is complicated, and we will not describe it here, except to mention the 2x2 case:\n",
    "\n",
    "\\begin{equation*}\n",
    "\\begin{pmatrix} a & b \\\\ c & d \\end{pmatrix}^{-1} =\n",
    "\\frac{1}{ad-bc} \\begin{pmatrix} d & -b \\\\ -c & a \\end{pmatrix}\n",
    "\\end{equation*}\n",
    "\n",
    "The matrix inverse $\\mathbf{A}^{-1}$ is only defined when a quantity called the *determinant* of **A** is not equal to zero.  The determinant of a square *NxN* matrix **M** is defined as:\n",
    "\n",
    "\\begin{equation*}\n",
    "det(\\mathbf{M}) = \\displaystyle\\sum_{i=1}^N \\displaystyle\\sum_{j=1}^N \\displaystyle\\sum_{k=1}^N \\cdots \\displaystyle\\sum_{q=1}^N\n",
    "\\varepsilon^{ijk \\cdots q} M_{1,i} M_{2,j} M_{3,k} \\cdots M_{N,q}\n",
    "\\end{equation*}\n",
    "\n",
    "Here the quantity $\\varepsilon^{ijk \\cdots q}$ is +1 when (*i*, *j*, *k*, $\\cdots$, *q*) is an even permutation of (1, 2, 3, $\\cdots$, *N*), -1 when it is an odd permutation and zero otherwise.  Note that the determinant of an *NxN* is the sum of products of *N* elements of the matrix.  In the case of a 2x2 matrix, the determinant contains products of two elements and is given by:\n",
    "\n",
    "\\begin{equation*}\n",
    "det \\begin{pmatrix} a & b \\\\ c & d \\end{pmatrix} = ad - bc\n",
    "\\end{equation*}\n",
    "\n",
    "Note that the reciprocal of the 2x2 determinant appears in the formula for the 2x2 matrix inverse, implying that this matrix inverse does not exist when the determinant is zero.  This is a general property of matrix inverses; they exist only when the matrix has nonzero determinant.\n",
    "\n",
    "Consider a matrix **A** and vector **b** below, let's first calculate the inverse and determinant of **A**.\n",
    "\n",
    "\\begin{equation*}\n",
    "\\mathbf{A} = \\begin{pmatrix} 1 & 5 & 13 \\\\ 2 & 7 & 17 \\\\ 3 & 11 & 19 \\end{pmatrix}\n",
    "\\qquad\n",
    "\\mathbf{b} = \\begin{pmatrix} 1 \\\\ 2 \\\\ 3 \\end{pmatrix}\n",
    "\\end{equation*}"
   ]
  },
  {
   "cell_type": "code",
   "execution_count": 17,
   "metadata": {
    "collapsed": false
   },
   "outputs": [
    {
     "name": "stdout",
     "output_type": "stream",
     "text": [
      "B =\n",
      "[[-2.25        2.         -0.25      ]\n",
      " [ 0.54166667 -0.83333333  0.375     ]\n",
      " [ 0.04166667  0.16666667 -0.125     ]]\n",
      "\n",
      "d =\n",
      "24.0\n"
     ]
    }
   ],
   "source": [
    "from numpy.linalg import inv, det\n",
    "\n",
    "A = np.array([(1,5,13),(2,7,17),(3,11,19)])\n",
    "b = np.array([1,2,3])\n",
    "\n",
    "B = inv(A)\n",
    "print(\"B =\")\n",
    "print(B)\n",
    "\n",
    "print(\"\")\n",
    "\n",
    "d = det(A)\n",
    "print(\"d =\")\n",
    "print(d)"
   ]
  },
  {
   "cell_type": "markdown",
   "metadata": {},
   "source": [
    "In many of the formulas of inverse theory, the matrix inverse either premultiplies or postmultiplies other quantities, for instance:\n",
    "\n",
    "\\begin{equation*}\n",
    "\\mathbf{c} = \\mathbf{A}^{-1} \\mathbf{b}\n",
    "\\qquad\n",
    "\\mathbf{D} = \\mathbf{B} \\mathbf{A}^{-1}\n",
    "\\end{equation*}\n",
    "\n",
    "These cases do not actually require the explicit calculation of $\\mathbf{A}^{-1}$, just the combinations of $\\mathbf{A}^{-1} \\mathbf{b}$ and $\\mathbf{B} \\mathbf{A}^{-1}$, which are computationally simpler.  Let's calculate **c** and **D** from above."
   ]
  },
  {
   "cell_type": "code",
   "execution_count": 18,
   "metadata": {
    "collapsed": false
   },
   "outputs": [
    {
     "name": "stdout",
     "output_type": "stream",
     "text": [
      "c =\n",
      "[ 1.  0.  0.]\n",
      "\n",
      "D =\n",
      "[[ 6.13541667 -6.20833333  1.34375   ]\n",
      " [-1.65451389  1.84027778 -0.49479167]\n",
      " [-0.00868056 -0.07638889  0.06770833]]\n"
     ]
    }
   ],
   "source": [
    "# calculate the vector c, and double-check its value\n",
    "c = np.round(np.linalg.solve(A, b), decimals=10)\n",
    "assert np.allclose(b, A.dot(c)), \"Error: Ac != b\"\n",
    "print(\"c =\")\n",
    "print(c)\n",
    "\n",
    "print(\"\")\n",
    "\n",
    "# calculate the matrix D, and double-check its value\n",
    "D = np.round(np.linalg.solve(A, B), decimals=10)\n",
    "assert np.allclose(B, A.dot(D)), \"Error: AD != B\"\n",
    "print(\"D =\")\n",
    "print(D)"
   ]
  },
  {
   "cell_type": "markdown",
   "metadata": {
    "collapsed": false
   },
   "source": [
    "A surprising amount of information on the structure of a matrix can be gained by studying how it affects a column vector that it multiplies.  Suppose that **M** is an *NxN* square matrix and that it multiplies an *input* column vector, **v**, producing an *output* column vector, **w=Mv**.  We can examine how the output **w** compares to the input **v** as **v** is varied.  One question of particular importance is \"When is the output parallel to the input?\"\n",
    "\n",
    "This question is called the *algebraic eigenvalue problem*.  If **w** is parallel to **v**, then $\\mathbf{w} = \\lambda \\mathbf{v}, where $\\lambda$ is a scalar proportionality factor.  The parallel vectors satisfy the following equation:\n",
    "\n",
    "\\begin{equation*}\n",
    "\\mathbf{Mv} = \\lambda \\mathbf{v}\n",
    "\\qquad \\text{or} \\qquad\n",
    "(\\mathbf{M} - \\lambda \\mathbf{I}) \\mathbf{v} = 0\n",
    "\\end{equation*}\n",
    "\n",
    "The trivial solution $v=(M-\\lambda I)^{-1}0=0$ is not very interesting.  A nontrivial solution is only possible when the matrix inverse $(M-\\lambda I)^{-1}$ does not exist.  This is the case where the parameter $\\lambda$ is specifically chosen to make the determinant $\\text{det}(M-\\lambda I)$ exactly zero, since a matrix with zero determinant has no inverse.  The determinant is calculated by adding together terms, each of which contains the product of *N* elements of the matrix.  Since each element of the matrix contains, t most, one instance of $\\lambda$, the product will contain powers of $\\lambda$ up to $\\lambda^N$.  Thus, the equation, $\\text{det}(M-\\lambda I)=0$, is an *N*th order polynomial equation for $\\lambda$.  An *N*th order polynomial equation has *n* roots, so we conclude that there must be *N* different proportionality factors, say $\\lambda_i$, and *N* corresponding column vectors, say $\\mathbf{v}^{(i)}$, that solve $\\mathbf{Mv}^{(i)}=\\lambda_i \\mathbf{v}^{(i)}$.  The column vectors, $\\mathbf{v}^{(i)}$, are called the *eigenvectors* of the matrix, **M**, and the proportionality factors, $\\lambda_i$, are called the *eigenvalues*.  Eigenvectors are determined only up to an arbitrary multiplicative factor *s*, since if $\\mathbf{v}^{(i)}$ is an eigenvector, so is $s \\mathbf{v}^{(i)}$.  Consequently, they are conventionally chosen to be unit vectors.\n",
    "\n",
    "In the special case where **M** is symmetric, it can be shown that the eigenvalues are real and the eigenvectors are mutually perpendicular, $\\mathbf{v}^{(iT)} \\mathbf{v}^{(j)}=0 \\text{for } i \\neq j$.  The *N* eigenvalues can be arranged into a diagonal matrix, $\\Lambda$, whose elements are $[\\Lambda]_{i,j}=\\lambda_i \\delta_{i,j}$, where $\\delta_{i,j}$ is the Kronecker delta.  The corresponding *N* eigenvectors can be arranged as the columns of an *NxN* matrix **V**, which satisfies $\\mathbf{V}^T \\mathbf{V} = \\mathbf{V} \\mathbf{V}^T = \\mathbf{I}$.  The eigenvalue equation can then be succinctly written as:\n",
    "\n",
    "\\begin{equation*}\n",
    "\\mathbf{MV} = \\mathbf{V} \\Lambda\n",
    "\\qquad \\text{or} \\qquad\n",
    "\\mathbf{M} = \\mathbf{V} \\Lambda \\mathbf{V}^T\n",
    "\\end{equation*}\n",
    "\n",
    "(The second equation is derived from the first by postmultiplying it by $\\mathbf{V}^T$.)  Thus, the symmetric matrix **M** can be reconstructed from its eigenvalues and eigenvectors.  Let's calculate the eigenvalues and eigenvectors for the matrix **M**.\n",
    "\n",
    "\\begin{equation*}\n",
    "\\mathbf{M} = \\begin{pmatrix} 1 & 2 & 0 \\\\ 2 & 2 & 0 \\\\ 0 & 0 & 4 \\end{pmatrix}\n",
    "\\end{equation*}"
   ]
  },
  {
   "cell_type": "code",
   "execution_count": 19,
   "metadata": {
    "collapsed": false
   },
   "outputs": [
    {
     "name": "stdout",
     "output_type": "stream",
     "text": [
      "Eigenvalues:  [-0.56155281  3.56155281  4.        ]\n",
      "\n",
      "Eigenvectors: \n",
      "[[-0.78820544 -0.61541221  0.        ]\n",
      " [ 0.61541221 -0.78820544  0.        ]\n",
      " [ 0.          0.          1.        ]]\n"
     ]
    }
   ],
   "source": [
    "M = np.array([(1,2,0), (2,2,0), (0,0,4)])\n",
    "w, v = np.linalg.eig(M)\n",
    "\n",
    "print(\"Eigenvalues: \", w)\n",
    "\n",
    "print(\"\")\n",
    "\n",
    "print(\"Eigenvectors: \")\n",
    "print(v)\n",
    "\n",
    "assert v[:,0].dot(v[:,0]) == 1, \"Orthonomality failed: First eigenvector not length 1\"\n",
    "assert v[:,1].dot(v[:,1]) == 1, \"Orthonomality failed: Second eigenvector not length 1\"\n",
    "assert v[:,2].dot(v[:,2]) == 1, \"Orthonomality failed: Third eigenvector not length 1\"\n",
    "assert v[:,0].dot(v[:,1]) == 0, \"Orthonomality failed: First and second eigenvectors not orthogonal\"\n",
    "assert v[:,0].dot(v[:,2]) == 0, \"Orthonomality failed: First and third eigenvectors not orthogonal\"\n",
    "assert v[:,1].dot(v[:,2]) == 0, \"Orthonomality failed: Second and third eigenvectors not orthogonal\""
   ]
  },
  {
   "cell_type": "markdown",
   "metadata": {
    "collapsed": true
   },
   "source": [
    "### I.5 Useful Python Operations\n",
    "\n",
    "#### I.5.1 Loops\n",
    "\n",
    "*Python* provides a looping mechanism, the $\\text{for}$ command, which can be useful when the need arises to sequentially access the elements of vectors and matrices.  Let's copy the diagonal elements of matrix **M** to the vector **a**, such that $a_i = M_{i,i}$.\n",
    "\n",
    "\\begin{equation*}\n",
    "\\mathbf{M} = \\begin{pmatrix} 1 & 4 & 7 \\\\ 2 & 5 & 8 \\\\ 3 & 6 & 9 \\end{pmatrix}\n",
    "\\qquad \\text{results in} \\qquad\n",
    "\\mathbf{a} = \\begin{pmatrix} 1 \\\\ 5 \\\\ 9 \\end{pmatrix}\n",
    "\\end{equation*}"
   ]
  },
  {
   "cell_type": "code",
   "execution_count": 20,
   "metadata": {
    "collapsed": false
   },
   "outputs": [
    {
     "name": "stdout",
     "output_type": "stream",
     "text": [
      "a =  [ 1.  5.  9.]\n"
     ]
    }
   ],
   "source": [
    "# create matrix and initialize vector\n",
    "M = np.array([(1,4,7), (2,5,8), (3,6,9)])\n",
    "a = np.zeros(3)\n",
    "\n",
    "# loop through items along M's diagonal - copy values to vector 'a'\n",
    "for i in range(0, 3):\n",
    "    a[i] = M[i,i]\n",
    "\n",
    "# print vector a\n",
    "print(\"a = \", a)"
   ]
  },
  {
   "cell_type": "markdown",
   "metadata": {},
   "source": [
    "Similarly, this can be accomplished more simply using the $\\text{numpy.diagonal}$ function."
   ]
  },
  {
   "cell_type": "code",
   "execution_count": 21,
   "metadata": {
    "collapsed": false
   },
   "outputs": [
    {
     "name": "stdout",
     "output_type": "stream",
     "text": [
      "a =  [1 5 9]\n"
     ]
    }
   ],
   "source": [
    "# re-initialize the vector\n",
    "a = np.zeros(3)\n",
    "\n",
    "# extract diagonal\n",
    "a = np.diagonal(M)\n",
    "\n",
    "print(\"a = \", a)"
   ]
  },
  {
   "cell_type": "markdown",
   "metadata": {},
   "source": [
    "#### I.5.2 Loading data from a file\n",
    "*Python* can read and write files with a variety of formats, but we start here with the simplest and most common, the text file.  As an example, we load a global temperature dataset compiled by NASA."
   ]
  },
  {
   "cell_type": "code",
   "execution_count": 24,
   "metadata": {
    "collapsed": false
   },
   "outputs": [
    {
     "data": {
      "text/html": [
       "<div>\n",
       "<table border=\"1\" class=\"dataframe\">\n",
       "  <thead>\n",
       "    <tr style=\"text-align: right;\">\n",
       "      <th></th>\n",
       "      <th>Year</th>\n",
       "      <th>TempChange</th>\n",
       "    </tr>\n",
       "  </thead>\n",
       "  <tbody>\n",
       "    <tr>\n",
       "      <th>0</th>\n",
       "      <td>1965</td>\n",
       "      <td>-0.11</td>\n",
       "    </tr>\n",
       "    <tr>\n",
       "      <th>1</th>\n",
       "      <td>1966</td>\n",
       "      <td>-0.03</td>\n",
       "    </tr>\n",
       "    <tr>\n",
       "      <th>2</th>\n",
       "      <td>1967</td>\n",
       "      <td>-0.01</td>\n",
       "    </tr>\n",
       "    <tr>\n",
       "      <th>3</th>\n",
       "      <td>1968</td>\n",
       "      <td>-0.04</td>\n",
       "    </tr>\n",
       "    <tr>\n",
       "      <th>4</th>\n",
       "      <td>1969</td>\n",
       "      <td>0.08</td>\n",
       "    </tr>\n",
       "  </tbody>\n",
       "</table>\n",
       "</div>"
      ],
      "text/plain": [
       "   Year  TempChange\n",
       "0  1965       -0.11\n",
       "1  1966       -0.03\n",
       "2  1967       -0.01\n",
       "3  1968       -0.04\n",
       "4  1969        0.08"
      ]
     },
     "execution_count": 24,
     "metadata": {},
     "output_type": "execute_result"
    }
   ],
   "source": [
    "import pandas as pd\n",
    "\n",
    "df = pd.read_csv(\"../data/global_temp.txt\", delim_whitespace=True, header=None, names=[\"Year\", \"TempChange\"])\n",
    "df.head()"
   ]
  },
  {
   "cell_type": "markdown",
   "metadata": {},
   "source": [
    "#### I.5.3 Plotting data\n",
    "Now let's plot the global temperature data we imported above."
   ]
  },
  {
   "cell_type": "code",
   "execution_count": 25,
   "metadata": {
    "collapsed": false,
    "scrolled": false
   },
   "outputs": [
    {
     "data": {
      "text/plain": [
       "<matplotlib.text.Text at 0x9383978>"
      ]
     },
     "execution_count": 25,
     "metadata": {},
     "output_type": "execute_result"
    },
    {
     "data": {
      "image/png": "[encoded data removed]",
      "text/plain": [
       "<matplotlib.figure.Figure at 0x93312e8>"
      ]
     },
     "metadata": {},
     "output_type": "display_data"
    }
   ],
   "source": [
    "import matplotlib.pyplot as plt\n",
    "plt.style.use('ggplot')\n",
    "%matplotlib inline\n",
    "\n",
    "df.plot(x='Year', y='TempChange', figsize=(10,6))\n",
    "plt.xlim(1965, 2010)\n",
    "plt.ylim(-0.5, 1.0)\n",
    "plt.xlabel('Calendar Year')\n",
    "plt.ylabel('Temperature Anomaly ($^{\\circ}C$)')\n",
    "plt.title('Global Temperature Data 1965-2010')"
   ]
  },
  {
   "cell_type": "markdown",
   "metadata": {
    "collapsed": true
   },
   "source": [
    "#### I.5.4 Creating character strings containing values of variables\n",
    "The results of computations are most understandable if described in a combination of words and numbers.  *Python* allows for values to be embedded into strings (including plot labels).  For example, let's print out the temporal range of the global temperature data set in a sentence."
   ]
  },
  {
   "cell_type": "code",
   "execution_count": 26,
   "metadata": {
    "collapsed": false
   },
   "outputs": [
    {
     "name": "stdout",
     "output_type": "stream",
     "text": [
      "The global temperature data begins for the year 1965 and ends for the year 2010.\n"
     ]
    }
   ],
   "source": [
    "# get number of rows in data frame\n",
    "n = df.shape[0]\n",
    "\n",
    "print (\"The global temperature data begins for the year %s and ends for the year %s.\" % (df.Year[0], df.Year[n-1]))"
   ]
  }
 ],
 "metadata": {
  "kernelspec": {
   "display_name": "Python 3",
   "language": "python",
   "name": "python3"
  },
  "language_info": {
   "codemirror_mode": {
    "name": "ipython",
    "version": 3
   },
   "file_extension": ".py",
   "mimetype": "text/x-python",
   "name": "python",
   "nbconvert_exporter": "python",
   "pygments_lexer": "ipython3",
   "version": "3.5.2"
  }
 },
 "nbformat": 4,
 "nbformat_minor": 0
}
