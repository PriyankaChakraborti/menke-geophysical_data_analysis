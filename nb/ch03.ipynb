{
 "cells": [
  {
   "cell_type": "markdown",
   "metadata": {},
   "source": [
    "## Geophysical Data Analysis: Discrete Inverse Theory\n",
    "### William Menke\n",
    "Third Edition  \n",
    "Transcribed and translated (from Matlab to Python) by Joshua Poirier\n",
    "\n",
    "## Chapter Three\n",
    "# Solution of the linear, Gaussian inverse problem, Viewpoint 1: The length method\n",
    "\n",
    "### 3.1 The lengths estimates\n",
    "\n",
    "The simplest of methods for solving the linear inverse problem **Gm=d** is based on measures of the size, or length, of the estimated model parameters $\\mathbf{m}^{\\text{est}}$ and of the predicted data $\\mathbf{d}^{\\text{pre}}=\\mathbf{Gm}^{\\text{est}}$.  \n",
    "\n",
    "To see that measures of length can be relevant to the solution of inverse problems, consider the simple problem of fitting a straight line to data.  This problem is often solved by the so-called method of least squares.  In this method, one tries to pick the model parameters (intercept and slope) so that the predicted data are as close as possible to the observed data.  For each observation, one defines a prediction error, or misfit, $e_i=d_i^{\\text{obs}}-d_i^{\\text{pre}}$.  The best-fit line is then the one with model parameters that lead to the smallest overall error *E*, defined as  \n",
    "\n",
    "\\begin{equation*}\n",
    "E = \\sum_{i=1}^N e_i^2 = \\mathbf{e}^{\\text{T}} \\mathbf{e}\n",
    "\\end{equation*}  \n",
    "\n",
    "The total error *E* (the sum of the squares of the individual errors) is exactly the squared Euclidean length of the vector **e**, or $E = \\mathbf{e}^{\\text{T}} \\mathbf{e}$.  \n",
    "\n",
    "The method of least squares estimates the solution of an inverse problem by finding the model parameters that minimize a particular measure of the length of the prediction error, $\\mathbf{e} = \\mathbf{d}^{\\text{obs}}-\\mathbf{d}^{\\text{pre}}$, namely, its Euclidean length.  As will be detailed below, it is the simplest of the methods that use measures of length as the guiding principle in solving an inverse problem.  "
   ]
  },
  {
   "cell_type": "code",
   "execution_count": 48,
   "metadata": {
    "collapsed": false
   },
   "outputs": [
    {
     "data": {
      "text/plain": [
       "<matplotlib.text.Text at 0xae27f98>"
      ]
     },
     "execution_count": 48,
     "metadata": {},
     "output_type": "execute_result"
    },
    {
     "data": {
      "image/png": "[encoded data removed]",
      "text/plain": [
       "<matplotlib.figure.Figure at 0x81c3e48>"
      ]
     },
     "metadata": {},
     "output_type": "display_data"
    }
   ],
   "source": [
    "# least squares fit of synthetic data\n",
    "\n",
    "import numpy as np\n",
    "from numpy.linalg import inv\n",
    "import matplotlib.pyplot as plt\n",
    "\n",
    "plt.style.use('ggplot')\n",
    "%matplotlib inline\n",
    "\n",
    "#N = 30\n",
    "#zmin = 0\n",
    "#zmax = 10\n",
    "z = np.sort(np.random.uniform(0, 10, 30))\n",
    "\n",
    "# d = a + b*z + noise\n",
    "a = 2.0\n",
    "b = 1.0\n",
    "#sd = 1.0\n",
    "dobs = a + b * z + np.random.normal(0,1.0,30)\n",
    "\n",
    "# least squares fit\n",
    "M = 2\n",
    "G = np.array([np.ones(30), z])\n",
    "mest = inv(G.dot(np.transpose(G))).dot(G.reshape(2,30).dot(dobs)).reshape(2,1)\n",
    "\n",
    "# predicted data & error\n",
    "dpre = np.transpose(G).dot(mest)\n",
    "e = dobs - dpre\n",
    "\n",
    "# maximum error\n",
    "iemax = abs(e).argmax()\n",
    "emax = np.max(abs(e))\n",
    "\n",
    "# build figure\n",
    "plt.subplots(1,2, figsize=(10,5))\n",
    "\n",
    "# PLOT 1: Simulated data and least squares solution\n",
    "plt.subplot(121)\n",
    "\n",
    "# simulated data\n",
    "plt.scatter(z, dobs, color=\"black\")\n",
    "\n",
    "# least squares solution\n",
    "plt.plot(z, dpre, color=\"blue\")\n",
    "\n",
    "# graphing params\n",
    "plt.xlim(0,10)\n",
    "plt.ylim(0,15)\n",
    "plt.title('Least Squares Fitting')\n",
    "plt.xlabel('z')\n",
    "plt.ylabel('d')\n",
    "\n",
    "# PLOT 2: Least squares solution demonstrating error as difference between observed and predicted datum\n",
    "plt.subplot(122)\n",
    "\n",
    "# least squares solution\n",
    "plt.plot(z, dpre, color=\"blue\")\n",
    "\n",
    "# annotating lines\n",
    "plt.plot([z[iemax], z[iemax]], [dpre[iemax], dobs[iemax]], color=\"red\", lw=5)\n",
    "plt.plot([z[iemax], z[iemax]], [0,dpre[iemax]], color=\"black\", ls='dashed')\n",
    "plt.plot([0, z[iemax]], [dpre[iemax], dpre[iemax]], color=\"black\", ls='dashed')\n",
    "plt.plot([0, z[iemax]], [dobs[iemax], dobs[iemax]], color=\"black\", ls='dashed')\n",
    "plt.scatter([z[iemax]], [dobs[iemax]], color=\"blue\", s=100)\n",
    "\n",
    "# graphing params\n",
    "plt.xlim(0,10)\n",
    "plt.ylim(0,15)\n",
    "plt.title('Error Definition')\n",
    "plt.xlabel('z')\n",
    "plt.ylabel('d')"
   ]
  }
 ],
 "metadata": {
  "kernelspec": {
   "display_name": "Python 3",
   "language": "python",
   "name": "python3"
  },
  "language_info": {
   "codemirror_mode": {
    "name": "ipython",
    "version": 3
   },
   "file_extension": ".py",
   "mimetype": "text/x-python",
   "name": "python",
   "nbconvert_exporter": "python",
   "pygments_lexer": "ipython3",
   "version": "3.5.2"
  }
 },
 "nbformat": 4,
 "nbformat_minor": 0
}
